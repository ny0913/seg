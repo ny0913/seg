{
 "cells": [
  {
   "cell_type": "code",
   "execution_count": 2,
   "metadata": {},
   "outputs": [],
   "source": [
    "import numpy as np\n",
    "import cv2\n",
    "import imutils"
   ]
  },
  {
   "cell_type": "code",
   "execution_count": 2,
   "metadata": {},
   "outputs": [
    {
     "name": "stdout",
     "output_type": "stream",
     "text": [
      "out.png\n"
     ]
    }
   ],
   "source": [
    "import cv2\n",
    "import glob\n",
    "filename = glob.glob('out.png')\n",
    "for i in filename:\n",
    "    img = cv2.imread('{}'.format(i), cv2.IMREAD_GRAYSCALE)\n",
    "    print(i)\n",
    "    cv2.imwrite('{}'.format(i), img)"
   ]
  },
  {
   "cell_type": "code",
   "execution_count": 3,
   "metadata": {},
   "outputs": [],
   "source": [
    "import matplotlib.pyplot as plt\n",
    "image = cv2.imread('out.png')\n",
    "reimage = np.zeros_like(image)\n",
    "reimage[image==222]=255\n",
    "cv2.imshow('Thresholded Image', reimage)\n",
    "cv2.imwrite('e19TH.png', reimage)\n",
    "cv2.waitKey(0)\n",
    "cv2.destroyAllWindows()\n"
   ]
  },
  {
   "cell_type": "code",
   "execution_count": 4,
   "metadata": {},
   "outputs": [
    {
     "data": {
      "text/plain": [
       "-1"
      ]
     },
     "execution_count": 4,
     "metadata": {},
     "output_type": "execute_result"
    }
   ],
   "source": [
    "img_path = 'e19TH.png'\n",
    "img = cv2.imread(img_path)\n",
    "img2 = cv2.imread(img_path,cv2.CV_8UC1)\n",
    "cnts = cv2.findContours(img2, cv2.RETR_EXTERNAL,cv2.CHAIN_APPROX_SIMPLE)\n",
    "cnts = imutils.grab_contours(cnts)\n",
    "c = max(cnts,key=cv2.contourArea)\n",
    "hp = tuple(c[c[:, :, 1].argmin()][0])\n",
    "cv2.drawContours(img, [c], -1, (0, 255, 255), 2)\n",
    "cv2.circle(img, hp, 4, (255, 0, 0), -1)\n",
    "cv2.imshow(\"top point\", img)\n",
    "cv2.imwrite('e19top.png',img)\n",
    "cv2.waitKey(0)\n",
    "\n"
   ]
  }
 ],
 "metadata": {
  "kernelspec": {
   "display_name": "gpu2",
   "language": "python",
   "name": "python3"
  },
  "language_info": {
   "codemirror_mode": {
    "name": "ipython",
    "version": 3
   },
   "file_extension": ".py",
   "mimetype": "text/x-python",
   "name": "python",
   "nbconvert_exporter": "python",
   "pygments_lexer": "ipython3",
   "version": "3.9.16"
  }
 },
 "nbformat": 4,
 "nbformat_minor": 2
}
