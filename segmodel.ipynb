{
 "cells": [
  {
   "cell_type": "code",
   "execution_count": null,
   "metadata": {},
   "outputs": [],
   "source": [
    "import numpy as np\n",
    "import pandas as pd\n",
    "import matplotlib.pyplot as plt\n",
    "import cv2\n",
    "import os\n",
    "from tensorflow.keras.utils import Sequence, to_categorical, plot_model\n",
    "from keras.layers import Conv2D, Dropout, MaxPooling2D, UpSampling2D, concatenate, Input\n",
    "from keras.models import Model\n",
    "from sklearn.model_selection import train_test_split\n",
    "from keras.callbacks import ModelCheckpoint, EarlyStopping"
   ]
  },
  {
   "cell_type": "code",
   "execution_count": null,
   "metadata": {},
   "outputs": [],
   "source": [
    "df = pd.read_csv('class_dict_seg.csv')\n",
    "df.head()"
   ]
  },
  {
   "cell_type": "code",
   "execution_count": null,
   "metadata": {},
   "outputs": [],
   "source": [
    "class_list = df.name.values.tolist()\n",
    "print(class_list)\n",
    "len(class_list)"
   ]
  },
  {
   "cell_type": "code",
   "execution_count": null,
   "metadata": {},
   "outputs": [],
   "source": [
    "from keras_segmentation.models.unet import vgg_unet\n",
    "\n",
    "model = vgg_unet(n_classes = len(class_list), input_height = 256, input_width = 256)"
   ]
  },
  {
   "cell_type": "code",
   "execution_count": null,
   "metadata": {},
   "outputs": [],
   "source": [
    "import tensorflow as tf\n",
    "callback = tf.keras.callbacks.EarlyStopping(monitor = \"val_loss\", mode = \"min\", patience = 4)\n",
    "model.compile(optimizer='adam', loss=['categorical_crossentropy'], metrics=['accuracy'])\n",
    "\n",
    "h = model.train(train_images = 'image', train_annotations = 'label', \n",
    "            val_images = 'val_img', val_annotations = 'val_lab', \n",
    "            checkpoints_path = '/tmp/vgg_unet_1', steps_per_epoch = 40, epochs = 50, callbacks = callback)"
   ]
  },
  {
   "cell_type": "code",
   "execution_count": null,
   "metadata": {},
   "outputs": [],
   "source": [
    "model.save('semantic_segmentation_model.h5')"
   ]
  },
  {
   "cell_type": "code",
   "execution_count": null,
   "metadata": {},
   "outputs": [],
   "source": [
    "from keras_segmentation.models.unet import vgg_unet\n",
    "model = vgg_unet(n_classes=len(class_list), input_height=256, input_width=256)\n",
    "model.load_weights('semantic_segmentation_model.h5')"
   ]
  },
  {
   "cell_type": "code",
   "execution_count": null,
   "metadata": {},
   "outputs": [],
   "source": [
    "import time\n",
    "from PIL import Image\n",
    "import matplotlib.pyplot as plt\n",
    "%matplotlib inline\n",
    "\n",
    "start = time.time()\n",
    "\n",
    "input_image = \"test/ta/e19.jpg\"\n",
    "out = model.predict_segmentation(\n",
    "    inp=input_image,\n",
    "    out_fname=\"out.png\"\n",
    ")\n",
    "\n",
    "fig, axs = plt.subplots(1, 2, figsize=(20, 20), constrained_layout=True)\n",
    "\n",
    "img_orig = Image.open(input_image)\n",
    "axs[0].imshow(img_orig)\n",
    "axs[0].set_title('C17.jpg')\n",
    "axs[0].grid(False)\n",
    "\n",
    "axs[1].imshow(out)\n",
    "axs[1].set_title('prediction C17')\n",
    "axs[1].grid(False)\n",
    "\n",
    "\n",
    "\n",
    "\n",
    "\n",
    "done = time.time()\n",
    "elapsed = done - start"
   ]
  }
 ],
 "metadata": {
  "language_info": {
   "name": "python"
  }
 },
 "nbformat": 4,
 "nbformat_minor": 2
}
