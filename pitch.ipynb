{
 "cells": [
  {
   "cell_type": "code",
   "execution_count": 1,
   "metadata": {},
   "outputs": [
    {
     "name": "stdout",
     "output_type": "stream",
     "text": [
      "height: 126\n"
     ]
    }
   ],
   "source": [
    "import cv2\n",
    "import numpy as np\n",
    "\n",
    "image = cv2.imread(r'C:/Users/ying/OSM/p/e22p-15top.png')\n",
    "\n",
    "hsv_image = cv2.cvtColor(image, cv2.COLOR_BGR2HSV)\n",
    "\n",
    "lower_blue = np.array([110, 50, 50])\n",
    "upper_blue = np.array([130, 255, 255])\n",
    "\n",
    "blue_mask = cv2.inRange(hsv_image, lower_blue, upper_blue)\n",
    "\n",
    "blue_coordinates = np.where(blue_mask == 255)\n",
    "\n",
    "blue_point_y, blue_point_x = blue_coordinates[0][0], blue_coordinates[1][0]\n",
    "\n",
    "cv2.circle(image, (blue_point_x, blue_point_y), 1, (255, 0, 0), -1)\n",
    "\n",
    "height, width = image.shape[:2]\n",
    "center_line_y = int(height / 2)\n",
    "cv2.line(image, (0, center_line_y), (width, center_line_y), (0, 255, 0), 1)\n",
    "\n",
    "vertical_distance = abs(blue_point_y - center_line_y + 2)\n",
    "\n",
    "cv2.imshow('Blue Point and Center Line', image)\n",
    "cv2.waitKey(0)\n",
    "cv2.destroyAllWindows()\n",
    "\n",
    "print(f'height: {vertical_distance}')"
   ]
  },
  {
   "cell_type": "code",
   "execution_count": 3,
   "metadata": {},
   "outputs": [
    {
     "name": "stdout",
     "output_type": "stream",
     "text": [
      "0.00963175855729439 K.M.\n"
     ]
    }
   ],
   "source": [
    "import math\n",
    "\n",
    "def haversine(lat1, lon1, lat2, lon2):\n",
    "     \n",
    "   \n",
    "    dLat = (lat2 - lat1) * math.pi / 180.0\n",
    "    dLon = (lon2 - lon1) * math.pi / 180.0\n",
    " \n",
    "    lat1 = (lat1) * math.pi / 180.0\n",
    "    lat2 = (lat2) * math.pi / 180.0\n",
    " \n",
    "    a = (pow(math.sin(dLat / 2), 2) +\n",
    "         pow(math.sin(dLon / 2), 2) *\n",
    "             math.cos(lat1) * math.cos(lat2));\n",
    "    rad = 6371\n",
    "    c = 2 * math.asin(math.sqrt(a))\n",
    "    return rad * c\n",
    "\n",
    "if __name__ == \"__main__\":\n",
    "    lat1 = 22.99846960\n",
    "    lon1 = 120.17900900\n",
    "    lat2 = 22.9983867903375\n",
    "    lon2 = 120.179036604101\n",
    "     \n",
    "    print(haversine(lat1, lon1,lat2, lon2), \"K.M.\")"
   ]
  },
  {
   "cell_type": "code",
   "execution_count": 4,
   "metadata": {},
   "outputs": [
    {
     "name": "stdout",
     "output_type": "stream",
     "text": [
      "2.513383687761147\n"
     ]
    }
   ],
   "source": [
    "\n",
    "a = vertical_distance\n",
    "p = 10\n",
    "hu = a + 170*math.tan(p)\n",
    "d = haversine(lat1, lon1,lat2, lon2)\n",
    "f = 170\n",
    "hc = 2.5\n",
    "\n",
    "h = hu*d/f+hc\n",
    "print(h)"
   ]
  }
 ],
 "metadata": {
  "kernelspec": {
   "display_name": "gpu2",
   "language": "python",
   "name": "python3"
  },
  "language_info": {
   "codemirror_mode": {
    "name": "ipython",
    "version": 3
   },
   "file_extension": ".py",
   "mimetype": "text/x-python",
   "name": "python",
   "nbconvert_exporter": "python",
   "pygments_lexer": "ipython3",
   "version": "3.9.16"
  }
 },
 "nbformat": 4,
 "nbformat_minor": 2
}
